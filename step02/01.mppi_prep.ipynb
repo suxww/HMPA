{
 "cells": [
  {
   "cell_type": "code",
   "execution_count": 1,
   "metadata": {},
   "outputs": [
    {
     "name": "stdout",
     "output_type": "stream",
     "text": [
      "\n",
      "   ____            _     _    __                  \n",
      "  / __ \\____ ___  (_)___| |  / /__  _____________ \n",
      " / / / / __ `__ \\/ / ___/ | / / _ \\/ ___/ ___/ _ \\ \n",
      "/ /_/ / / / / / / / /__ | |/ /  __/ /  (__  )  __/ \n",
      "\\____/_/ /_/ /_/_/\\___/ |___/\\___/_/  /____/\\___/                                              \n",
      "\n",
      "Version: 1.5.7, Tutorials: https://omicverse.readthedocs.io/\n"
     ]
    }
   ],
   "source": [
    "import omicverse as ov"
   ]
  },
  {
   "cell_type": "code",
   "execution_count": 2,
   "metadata": {},
   "outputs": [],
   "source": [
    "import os\n",
    "# set path\n",
    "target_directory = \"/Users/suxinwan/Documents/HMPA_resource/detail_interaction\"\n",
    "# change path\n",
    "os.chdir(target_directory)"
   ]
  },
  {
   "cell_type": "code",
   "execution_count": 4,
   "metadata": {},
   "outputs": [],
   "source": [
    "import pandas as pd\n",
    "import os\n",
    "import omicverse as ov\n",
    "import networkx as nx\n",
    "import matplotlib.pyplot as plt\n",
    "\n",
    "folder_path = \"test\"\n",
    "result_path = \"test\"\n",
    "\n",
    "os.chdir(\"~/HMPA_resource/detail_interaction\")\n",
    "\n",
    "# obtain pepnn result\n",
    "txt_files = [file for file in os.listdir(folder_path) if file.endswith(\".txt\")]\n",
    "\n",
    "for txt_file in txt_files:\n",
    "\n",
    "    df = pd.read_csv(os.path.join(folder_path, txt_file), sep='\\t')\n",
    "    \n",
    "    # filter prm_score \n",
    "    filtered_df = df[df['prm_score'] > 1.04]\n",
    "    gene_list = filtered_df['prot_id'].tolist()\n",
    "\n",
    "    # generate G interaction\n",
    "    G_res_csv_path = os.path.join(result_path, f\"G_res_{os.path.splitext(txt_file)[0]}.csv\")\n",
    "    G_res = ov.bulk.string_interaction(gene_list, 9606)\n",
    "\n",
    "    peptide = os.path.splitext(txt_file)[0]\n",
    "    new_rows = []\n",
    "    for gene in pd.concat([G_res['preferredName_A'], G_res['preferredName_B']]).unique():\n",
    "        new_rows.append({'stringId_A': '', 'stringId_B': '', 'preferredName_A': peptide, 'preferredName_B': gene, 'ncbiTaxonId': 9606, 'score': \"\"})\n",
    "\n",
    "    new_rows_df = pd.DataFrame(new_rows)\n",
    "    G_res_updated = pd.concat([G_res, new_rows_df], ignore_index=True)\n",
    "    G_res_updated.to_csv(G_res_csv_path, index=False)\n",
    "    \n",
    "    # generate G graph\n",
    "    G = nx.from_pandas_edgelist(G_res_updated, 'preferredName_A', 'preferredName_B', ['score'])\n",
    "\n",
    "    # set layout\n",
    "    pos = nx.spring_layout(G)  \n",
    "\n",
    "    # set node color and size\n",
    "    node_colors = 'lightblue'\n",
    "    node_sizes = 50\n",
    "\n",
    "    nx.draw_networkx_nodes(G, pos, node_color=node_colors, node_size=node_sizes, alpha=0.8)\n",
    "    nx.draw_networkx_edges(G, pos, edge_color='gray', alpha=0.5)\n",
    "\n",
    "    # save\n",
    "    plt.title(f'Interaction Network for {peptide}', fontsize=12)\n",
    "    plt.axis('off')  \n",
    "    #plt.savefig(f'{result_path}/{peptide}_network.png')\n",
    "    plt.close()  "
   ]
  },
  {
   "cell_type": "code",
   "execution_count": 5,
   "metadata": {},
   "outputs": [
    {
     "name": "stdout",
     "output_type": "stream",
     "text": [
      "Score calculation and replacement completed.\n"
     ]
    }
   ],
   "source": [
    "import pandas as pd\n",
    "import networkx as nx\n",
    "import glob\n",
    "import os\n",
    "\n",
    "os.chdir(\"~/HMPA_resource/detail_interaction/test\")\n",
    "\n",
    "files = glob.glob('G_res_hmpa_*.csv')\n",
    "for file in files:\n",
    "    \n",
    "    df = pd.read_csv(file)\n",
    "    G = nx.Graph()\n",
    "\n",
    "    # ad  edges and scores\n",
    "    for idx, row in df.iterrows():\n",
    "        if pd.notna(row[\"score\"]):\n",
    "            G.add_edge(row[\"preferredName_A\"], row[\"preferredName_B\"], score=row[\"score\"])\n",
    "        else:\n",
    "            G.add_edge(row[\"preferredName_A\"], row[\"preferredName_B\"])\n",
    "\n",
    "    # calculate weight scores\n",
    "    results = []\n",
    "    for node in G:\n",
    "        if \"hmpa_\" in node:\n",
    "            scores = {}\n",
    "            for target in G:\n",
    "                if target != node:\n",
    "                    if nx.has_path(G, node, target):\n",
    "                        paths = nx.all_simple_paths(G, source=node, target=target, cutoff=3)\n",
    "                        path_scores = [\n",
    "                            sum(G[u][v]['score'] for u, v in zip(path[:-1], path[1:])) / len(path[:-1])\n",
    "                            for path in paths if len(path) > 1\n",
    "                        ]\n",
    "                        if path_scores:\n",
    "                            scores[target] = round(sum(path_scores) / len(path_scores), 3)\n",
    "            results.append(pd.Series(scores, name=node))\n",
    "\n",
    "    # save result\n",
    "    result_df = pd.concat(results, axis=1).T\n",
    "    for idx, row in df.iterrows():\n",
    "        if row[\"preferredName_A\"] in result_df.index:\n",
    "            new_score = result_df.loc[row[\"preferredName_A\"], row[\"preferredName_B\"]]\n",
    "            df.at[idx, \"score\"] = new_score\n",
    "\n",
    "    # update file\n",
    "    updated_file_path = f\"score_{os.path.basename(file)}\"\n",
    "    df.to_csv(updated_file_path, index=False)\n",
    "\n",
    "print(\"Score calculation and replacement completed.\")"
   ]
  },
  {
   "cell_type": "code",
   "execution_count": 6,
   "metadata": {},
   "outputs": [
    {
     "name": "stdout",
     "output_type": "stream",
     "text": [
      "Extraction and saving completed.\n"
     ]
    }
   ],
   "source": [
    "import pandas as pd\n",
    "import glob\n",
    "import os\n",
    "\n",
    "# set path\n",
    "directory = \"~/HMPA_resource/detail_interaction/test\"\n",
    "t_directory = '~/HMPA_resource/detail_interaction/network_score'\n",
    "\n",
    "files = glob.glob(os.path.join(directory, 'score_G_res_*.csv'))\n",
    "\n",
    "# create target directory\n",
    "for file in files:\n",
    "\n",
    "    df = pd.read_csv(file)\n",
    "    df = df[['preferredName_A', 'preferredName_B', 'score']]\n",
    "    \n",
    "    # rename\n",
    "    df.columns = ['source', 'target', 'score']\n",
    "    new_filename = os.path.basename(file).replace('score_G_res_', 'score_')\n",
    "    \n",
    "    # save\n",
    "    df.to_csv(os.path.join(t_directory, new_filename), index=False)\n",
    "\n",
    "print(\"Extraction and saving completed.\")"
   ]
  },
  {
   "cell_type": "code",
   "execution_count": 7,
   "metadata": {},
   "outputs": [
    {
     "name": "stdout",
     "output_type": "stream",
     "text": [
      "Results saved to: /Users/suxinwan/Documents/HMPA_resource/detail_interaction/test/hmpa_network_node_category.csv\n"
     ]
    }
   ],
   "source": [
    "import pandas as pd\n",
    "import os\n",
    "\n",
    "# set path\n",
    "directory = \"~/HMPA_resource/detail_interaction/network_score\"\n",
    "result_df = pd.DataFrame(columns=['hmpa_id', 'node_name', 'score', 'category_name'])\n",
    "\n",
    "for filename in os.listdir(directory):\n",
    "    if filename.endswith(\".csv\"):\n",
    "\n",
    "        filepath = os.path.join(directory, filename)\n",
    "        df = pd.read_csv(filepath, header=1, names=['source', 'target', 'score'], sep=',', dtype={'score': float})\n",
    "        df_filtered = df[df['source'].str.startswith('hmpa_')]\n",
    "        \n",
    "        # rename\n",
    "        df_filtered = df_filtered[['source', 'target', 'score']]\n",
    "        df_filtered.columns = ['hmpa_id', 'node_name', 'score']\n",
    "        \n",
    "        # select range for visualization\n",
    "        def categorize(score):\n",
    "            if score >= 0.9:\n",
    "                return 'A'\n",
    "            elif score >= 0.8:\n",
    "                return 'B'\n",
    "            elif score >= 0.7:\n",
    "                return 'C'\n",
    "            elif score >= 0.6:\n",
    "                return 'D'\n",
    "            elif score >= 0.5:\n",
    "                return 'E'\n",
    "            else:\n",
    "                return 'F'\n",
    "        \n",
    "        # add category\n",
    "        df_filtered['category_name'] = df_filtered['score'].apply(categorize)        \n",
    "        result_df = pd.concat([result_df, df_filtered], ignore_index=True)\n",
    "\n",
    "# save\n",
    "result_filepath = \"/Users/suxinwan/Documents/HMPA_resource/detail_interaction/hmpa_network_node_category.csv\"\n",
    "result_df.to_csv(result_filepath, index=False)\n",
    "\n",
    "print(\"Results saved to:\", result_filepath)"
   ]
  }
 ],
 "metadata": {
  "kernelspec": {
   "display_name": "omicverse",
   "language": "python",
   "name": "python3"
  },
  "language_info": {
   "codemirror_mode": {
    "name": "ipython",
    "version": 3
   },
   "file_extension": ".py",
   "mimetype": "text/x-python",
   "name": "python",
   "nbconvert_exporter": "python",
   "pygments_lexer": "ipython3",
   "version": "3.9.-1"
  }
 },
 "nbformat": 4,
 "nbformat_minor": 2
}
